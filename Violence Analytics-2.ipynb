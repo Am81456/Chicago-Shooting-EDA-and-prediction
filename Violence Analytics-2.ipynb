{
 "cells": [
  {
   "cell_type": "code",
   "execution_count": 1,
   "id": "f2900d02",
   "metadata": {},
   "outputs": [],
   "source": [
    "import pandas as pd\n",
    "import numpy as np\n",
    "import matplotlib.pyplot as plt\n",
    "import seaborn as sns\n",
    "from sklearn.model_selection import cross_val_score, train_test_split, RandomizedSearchCV, GridSearchCV\n",
    "from sklearn.preprocessing import LabelEncoder, MinMaxScaler\n",
    "from sklearn.metrics import confusion_matrix, classification_report, roc_curve, roc_auc_score, plot_confusion_matrix, silhouette_score\n",
    "from collections import Counter\n",
    "from imblearn.over_sampling import SMOTE\n",
    "from sklearn.decomposition import PCA \n",
    "from pprint import pprint\n",
    "\n",
    "# Machine Learning\n",
    "from sklearn.ensemble import RandomForestClassifier, AdaBoostClassifier\n",
    "from sklearn.svm import SVC\n",
    "from sklearn.cluster import KMeans\n",
    "\n",
    "import warnings\n",
    "warnings.filterwarnings(\"ignore\")"
   ]
  },
  {
   "cell_type": "markdown",
   "id": "e4d27c85",
   "metadata": {},
   "source": [
    "### Data Exploration & Visualization"
   ]
  },
  {
   "cell_type": "code",
   "execution_count": 2,
   "id": "85d0666c",
   "metadata": {},
   "outputs": [],
   "source": [
    "crimes = pd.read_csv('Violence.csv')"
   ]
  },
  {
   "cell_type": "code",
   "execution_count": 3,
   "id": "57c8c52a",
   "metadata": {},
   "outputs": [
    {
     "name": "stdout",
     "output_type": "stream",
     "text": [
      "<class 'pandas.core.frame.DataFrame'>\n",
      "RangeIndex: 21812 entries, 0 to 21811\n",
      "Data columns (total 25 columns):\n",
      " #   Column                        Non-Null Count  Dtype  \n",
      "---  ------                        --------------  -----  \n",
      " 0   CASE_NUMBER                   21812 non-null  object \n",
      " 1   DATE                          21812 non-null  object \n",
      " 2   BLOCK                         21812 non-null  object \n",
      " 3   PRIMARY_TYPE                  21812 non-null  object \n",
      " 4   UNIQUE_ID                     21812 non-null  object \n",
      " 5   ZIP_CODE                      21812 non-null  int64  \n",
      " 6   WARD                          21812 non-null  int64  \n",
      " 7   COMMUNITY_AREA                21812 non-null  object \n",
      " 8   STREET OUTREACH ORGANIZATION  21812 non-null  object \n",
      " 9   AREA                          21812 non-null  int64  \n",
      " 10  DISTRICT                      21812 non-null  int64  \n",
      " 11  BEAT                          21812 non-null  int64  \n",
      " 12  AGE                           21550 non-null  object \n",
      " 13  SEX                           21605 non-null  object \n",
      " 14  RACE                          21605 non-null  object \n",
      " 15  FBI_CD                        21812 non-null  object \n",
      " 16  FBI_DESCR                     21812 non-null  object \n",
      " 17  IUCR_CD                       21812 non-null  object \n",
      " 18  IUCR_SECONDARY                21812 non-null  object \n",
      " 19  MONTH                         21812 non-null  int64  \n",
      " 20  DAY_OF_WEEK                   21812 non-null  int64  \n",
      " 21  HOUR                          21812 non-null  int64  \n",
      " 22  LATITUDE                      21812 non-null  float64\n",
      " 23  LONGITUDE                     21812 non-null  float64\n",
      " 24  LOCATION                      21812 non-null  object \n",
      "dtypes: float64(2), int64(8), object(15)\n",
      "memory usage: 4.2+ MB\n"
     ]
    }
   ],
   "source": [
    "crimes.info()"
   ]
  },
  {
   "cell_type": "code",
   "execution_count": 4,
   "id": "74469c4c",
   "metadata": {},
   "outputs": [
    {
     "data": {
      "text/html": [
       "<div>\n",
       "<style scoped>\n",
       "    .dataframe tbody tr th:only-of-type {\n",
       "        vertical-align: middle;\n",
       "    }\n",
       "\n",
       "    .dataframe tbody tr th {\n",
       "        vertical-align: top;\n",
       "    }\n",
       "\n",
       "    .dataframe thead th {\n",
       "        text-align: right;\n",
       "    }\n",
       "</style>\n",
       "<table border=\"1\" class=\"dataframe\">\n",
       "  <thead>\n",
       "    <tr style=\"text-align: right;\">\n",
       "      <th></th>\n",
       "      <th>CASE_NUMBER</th>\n",
       "      <th>DATE</th>\n",
       "      <th>BLOCK</th>\n",
       "      <th>PRIMARY_TYPE</th>\n",
       "      <th>UNIQUE_ID</th>\n",
       "      <th>ZIP_CODE</th>\n",
       "      <th>WARD</th>\n",
       "      <th>COMMUNITY_AREA</th>\n",
       "      <th>STREET OUTREACH ORGANIZATION</th>\n",
       "      <th>AREA</th>\n",
       "      <th>...</th>\n",
       "      <th>FBI_CD</th>\n",
       "      <th>FBI_DESCR</th>\n",
       "      <th>IUCR_CD</th>\n",
       "      <th>IUCR_SECONDARY</th>\n",
       "      <th>MONTH</th>\n",
       "      <th>DAY_OF_WEEK</th>\n",
       "      <th>HOUR</th>\n",
       "      <th>LATITUDE</th>\n",
       "      <th>LONGITUDE</th>\n",
       "      <th>LOCATION</th>\n",
       "    </tr>\n",
       "  </thead>\n",
       "  <tbody>\n",
       "    <tr>\n",
       "      <th>0</th>\n",
       "      <td>HZ100096</td>\n",
       "      <td>01/01/2016 02:04:00 AM</td>\n",
       "      <td>4600  S ST LAWRENCE</td>\n",
       "      <td>FATAL SHOOTING</td>\n",
       "      <td>HOM-HZ100096-1</td>\n",
       "      <td>60653</td>\n",
       "      <td>4</td>\n",
       "      <td>GRAND BOULEVARD</td>\n",
       "      <td>None</td>\n",
       "      <td>1</td>\n",
       "      <td>...</td>\n",
       "      <td>01A</td>\n",
       "      <td>HOMICIDE - 1ST OR 2ND DEGREE (INDEX)</td>\n",
       "      <td>0110</td>\n",
       "      <td>FIRST DEGREE MURDER</td>\n",
       "      <td>1</td>\n",
       "      <td>6</td>\n",
       "      <td>2</td>\n",
       "      <td>41.810127</td>\n",
       "      <td>-87.611604</td>\n",
       "      <td>POINT (-87.611604058699 41.810126904142)</td>\n",
       "    </tr>\n",
       "    <tr>\n",
       "      <th>1</th>\n",
       "      <td>HZ100342</td>\n",
       "      <td>01/01/2016 06:39:00 AM</td>\n",
       "      <td>1900  W GARFIELD BLVD</td>\n",
       "      <td>FATAL SHOOTING</td>\n",
       "      <td>HOM-HZ100342-1</td>\n",
       "      <td>60609</td>\n",
       "      <td>16</td>\n",
       "      <td>NEW CITY</td>\n",
       "      <td>PBMR New City</td>\n",
       "      <td>1</td>\n",
       "      <td>...</td>\n",
       "      <td>01A</td>\n",
       "      <td>HOMICIDE - 1ST OR 2ND DEGREE (INDEX)</td>\n",
       "      <td>0110</td>\n",
       "      <td>FIRST DEGREE MURDER</td>\n",
       "      <td>1</td>\n",
       "      <td>6</td>\n",
       "      <td>6</td>\n",
       "      <td>41.794218</td>\n",
       "      <td>-87.673175</td>\n",
       "      <td>POINT (-87.67317465388 41.794218345858)</td>\n",
       "    </tr>\n",
       "    <tr>\n",
       "      <th>2</th>\n",
       "      <td>HZ101042</td>\n",
       "      <td>01/01/2016 10:06:00 PM</td>\n",
       "      <td>6100  S SANGAMON ST</td>\n",
       "      <td>FATAL SHOOTING</td>\n",
       "      <td>HOM-HZ101042-1</td>\n",
       "      <td>60621</td>\n",
       "      <td>16</td>\n",
       "      <td>ENGLEWOOD</td>\n",
       "      <td>TADC Englewood | READI 60621</td>\n",
       "      <td>1</td>\n",
       "      <td>...</td>\n",
       "      <td>01A</td>\n",
       "      <td>HOMICIDE - 1ST OR 2ND DEGREE (INDEX)</td>\n",
       "      <td>0110</td>\n",
       "      <td>FIRST DEGREE MURDER</td>\n",
       "      <td>1</td>\n",
       "      <td>6</td>\n",
       "      <td>22</td>\n",
       "      <td>41.782338</td>\n",
       "      <td>-87.647905</td>\n",
       "      <td>POINT (-87.64790465388 41.782338345858)</td>\n",
       "    </tr>\n",
       "    <tr>\n",
       "      <th>3</th>\n",
       "      <td>HZ101842</td>\n",
       "      <td>01/02/2016 04:40:00 PM</td>\n",
       "      <td>6300  S STONY ISLAND</td>\n",
       "      <td>FATAL SHOOTING</td>\n",
       "      <td>HOM-HZ101842-1</td>\n",
       "      <td>60637</td>\n",
       "      <td>20</td>\n",
       "      <td>WOODLAWN</td>\n",
       "      <td>Project H.O.O.D. Woodlawn</td>\n",
       "      <td>1</td>\n",
       "      <td>...</td>\n",
       "      <td>01A</td>\n",
       "      <td>HOMICIDE - 1ST OR 2ND DEGREE (INDEX)</td>\n",
       "      <td>0110</td>\n",
       "      <td>FIRST DEGREE MURDER</td>\n",
       "      <td>1</td>\n",
       "      <td>7</td>\n",
       "      <td>16</td>\n",
       "      <td>41.780618</td>\n",
       "      <td>-87.586165</td>\n",
       "      <td>POINT (-87.58616465388 41.780618345858)</td>\n",
       "    </tr>\n",
       "    <tr>\n",
       "      <th>4</th>\n",
       "      <td>HZ103309</td>\n",
       "      <td>01/04/2016 08:22:00 AM</td>\n",
       "      <td>400  N CENTRAL AVE</td>\n",
       "      <td>FATAL SHOOTING</td>\n",
       "      <td>HOM-HZ103309-1</td>\n",
       "      <td>60644</td>\n",
       "      <td>37</td>\n",
       "      <td>AUSTIN</td>\n",
       "      <td>READI 60644 | INVC Austin</td>\n",
       "      <td>4</td>\n",
       "      <td>...</td>\n",
       "      <td>01A</td>\n",
       "      <td>HOMICIDE - 1ST OR 2ND DEGREE (INDEX)</td>\n",
       "      <td>0110</td>\n",
       "      <td>FIRST DEGREE MURDER</td>\n",
       "      <td>1</td>\n",
       "      <td>2</td>\n",
       "      <td>8</td>\n",
       "      <td>41.888383</td>\n",
       "      <td>-87.765249</td>\n",
       "      <td>POINT (-87.765249058699 41.888383095858)</td>\n",
       "    </tr>\n",
       "  </tbody>\n",
       "</table>\n",
       "<p>5 rows × 25 columns</p>\n",
       "</div>"
      ],
      "text/plain": [
       "  CASE_NUMBER                    DATE                  BLOCK    PRIMARY_TYPE  \\\n",
       "0    HZ100096  01/01/2016 02:04:00 AM    4600  S ST LAWRENCE  FATAL SHOOTING   \n",
       "1    HZ100342  01/01/2016 06:39:00 AM  1900  W GARFIELD BLVD  FATAL SHOOTING   \n",
       "2    HZ101042  01/01/2016 10:06:00 PM    6100  S SANGAMON ST  FATAL SHOOTING   \n",
       "3    HZ101842  01/02/2016 04:40:00 PM   6300  S STONY ISLAND  FATAL SHOOTING   \n",
       "4    HZ103309  01/04/2016 08:22:00 AM     400  N CENTRAL AVE  FATAL SHOOTING   \n",
       "\n",
       "        UNIQUE_ID  ZIP_CODE  WARD   COMMUNITY_AREA  \\\n",
       "0  HOM-HZ100096-1     60653     4  GRAND BOULEVARD   \n",
       "1  HOM-HZ100342-1     60609    16         NEW CITY   \n",
       "2  HOM-HZ101042-1     60621    16        ENGLEWOOD   \n",
       "3  HOM-HZ101842-1     60637    20         WOODLAWN   \n",
       "4  HOM-HZ103309-1     60644    37           AUSTIN   \n",
       "\n",
       "   STREET OUTREACH ORGANIZATION  AREA  ...  FBI_CD  \\\n",
       "0                          None     1  ...     01A   \n",
       "1                 PBMR New City     1  ...     01A   \n",
       "2  TADC Englewood | READI 60621     1  ...     01A   \n",
       "3     Project H.O.O.D. Woodlawn     1  ...     01A   \n",
       "4     READI 60644 | INVC Austin     4  ...     01A   \n",
       "\n",
       "                              FBI_DESCR IUCR_CD       IUCR_SECONDARY MONTH  \\\n",
       "0  HOMICIDE - 1ST OR 2ND DEGREE (INDEX)    0110  FIRST DEGREE MURDER     1   \n",
       "1  HOMICIDE - 1ST OR 2ND DEGREE (INDEX)    0110  FIRST DEGREE MURDER     1   \n",
       "2  HOMICIDE - 1ST OR 2ND DEGREE (INDEX)    0110  FIRST DEGREE MURDER     1   \n",
       "3  HOMICIDE - 1ST OR 2ND DEGREE (INDEX)    0110  FIRST DEGREE MURDER     1   \n",
       "4  HOMICIDE - 1ST OR 2ND DEGREE (INDEX)    0110  FIRST DEGREE MURDER     1   \n",
       "\n",
       "  DAY_OF_WEEK HOUR   LATITUDE  LONGITUDE  \\\n",
       "0           6    2  41.810127 -87.611604   \n",
       "1           6    6  41.794218 -87.673175   \n",
       "2           6   22  41.782338 -87.647905   \n",
       "3           7   16  41.780618 -87.586165   \n",
       "4           2    8  41.888383 -87.765249   \n",
       "\n",
       "                                   LOCATION  \n",
       "0  POINT (-87.611604058699 41.810126904142)  \n",
       "1   POINT (-87.67317465388 41.794218345858)  \n",
       "2   POINT (-87.64790465388 41.782338345858)  \n",
       "3   POINT (-87.58616465388 41.780618345858)  \n",
       "4  POINT (-87.765249058699 41.888383095858)  \n",
       "\n",
       "[5 rows x 25 columns]"
      ]
     },
     "execution_count": 4,
     "metadata": {},
     "output_type": "execute_result"
    }
   ],
   "source": [
    "crimes.head()"
   ]
  },
  {
   "cell_type": "code",
   "execution_count": 5,
   "id": "1acffcac",
   "metadata": {},
   "outputs": [
    {
     "data": {
      "text/plain": [
       "['CASE_NUMBER',\n",
       " 'DATE',\n",
       " 'BLOCK',\n",
       " 'PRIMARY_TYPE',\n",
       " 'UNIQUE_ID',\n",
       " 'ZIP_CODE',\n",
       " 'WARD',\n",
       " 'COMMUNITY_AREA',\n",
       " 'STREET OUTREACH ORGANIZATION',\n",
       " 'AREA',\n",
       " 'DISTRICT',\n",
       " 'BEAT',\n",
       " 'AGE',\n",
       " 'SEX',\n",
       " 'RACE',\n",
       " 'FBI_CD',\n",
       " 'FBI_DESCR',\n",
       " 'IUCR_CD',\n",
       " 'IUCR_SECONDARY',\n",
       " 'MONTH',\n",
       " 'DAY_OF_WEEK',\n",
       " 'HOUR',\n",
       " 'LATITUDE',\n",
       " 'LONGITUDE',\n",
       " 'LOCATION']"
      ]
     },
     "execution_count": 5,
     "metadata": {},
     "output_type": "execute_result"
    }
   ],
   "source": [
    "# The list of the features in dataset\n",
    "list(crimes.columns)"
   ]
  },
  {
   "cell_type": "code",
   "execution_count": 6,
   "id": "a0525c95",
   "metadata": {},
   "outputs": [
    {
     "name": "stdout",
     "output_type": "stream",
     "text": [
      "The Number of distinct crimes in City: 3\n",
      "\n",
      "The Distinct Crimes are :\n",
      " ['FATAL SHOOTING' 'NON-FATAL SHOOTING' 'NON-SHOOTING HOMICIDE']\n"
     ]
    }
   ],
   "source": [
    "# Number of distinct crimes in the city\n",
    "ans = crimes['PRIMARY_TYPE'].unique()\n",
    "print(\"The Number of distinct crimes in City:\", len(ans))\n",
    "print()\n",
    "print(\"The Distinct Crimes are :\\n\", ans)"
   ]
  },
  {
   "cell_type": "code",
   "execution_count": 7,
   "id": "9fe795ad",
   "metadata": {},
   "outputs": [
    {
     "data": {
      "text/html": [
       "<div>\n",
       "<style scoped>\n",
       "    .dataframe tbody tr th:only-of-type {\n",
       "        vertical-align: middle;\n",
       "    }\n",
       "\n",
       "    .dataframe tbody tr th {\n",
       "        vertical-align: top;\n",
       "    }\n",
       "\n",
       "    .dataframe thead th {\n",
       "        text-align: right;\n",
       "    }\n",
       "</style>\n",
       "<table border=\"1\" class=\"dataframe\">\n",
       "  <thead>\n",
       "    <tr style=\"text-align: right;\">\n",
       "      <th></th>\n",
       "      <th>PRIMARY_TYPE</th>\n",
       "      <th>counts</th>\n",
       "    </tr>\n",
       "  </thead>\n",
       "  <tbody>\n",
       "    <tr>\n",
       "      <th>0</th>\n",
       "      <td>NON-FATAL SHOOTING</td>\n",
       "      <td>17833</td>\n",
       "    </tr>\n",
       "    <tr>\n",
       "      <th>1</th>\n",
       "      <td>FATAL SHOOTING</td>\n",
       "      <td>3566</td>\n",
       "    </tr>\n",
       "    <tr>\n",
       "      <th>2</th>\n",
       "      <td>NON-SHOOTING HOMICIDE</td>\n",
       "      <td>413</td>\n",
       "    </tr>\n",
       "  </tbody>\n",
       "</table>\n",
       "</div>"
      ],
      "text/plain": [
       "            PRIMARY_TYPE  counts\n",
       "0     NON-FATAL SHOOTING   17833\n",
       "1         FATAL SHOOTING    3566\n",
       "2  NON-SHOOTING HOMICIDE     413"
      ]
     },
     "execution_count": 7,
     "metadata": {},
     "output_type": "execute_result"
    }
   ],
   "source": [
    "crime_count = pd.DataFrame(crimes.groupby('PRIMARY_TYPE').size().sort_values(ascending=False).rename('counts').reset_index())\n",
    "crime_count.head()"
   ]
  },
  {
   "cell_type": "code",
   "execution_count": 8,
   "id": "406bbab1",
   "metadata": {},
   "outputs": [],
   "source": [
    "crimes.DATE = pd.to_datetime(crimes.DATE)"
   ]
  },
  {
   "cell_type": "code",
   "execution_count": 9,
   "id": "91baee7b",
   "metadata": {},
   "outputs": [],
   "source": [
    "crimes.DATE = pd.to_datetime(crimes.DATE, format = '%m/%d/%Y %I:%M:%S %p')\n",
    "crimes.index = pd.DatetimeIndex(crimes.DATE)"
   ]
  },
  {
   "cell_type": "code",
   "execution_count": 10,
   "id": "72551c7a",
   "metadata": {},
   "outputs": [
    {
     "data": {
      "image/png": "[encoded data removed]",
      "text/plain": [
       "<Figure size 576x360 with 1 Axes>"
      ]
     },
     "metadata": {
      "needs_background": "light"
     },
     "output_type": "display_data"
    },
    {
     "data": {
      "text/plain": [
       "<Figure size 576x360 with 0 Axes>"
      ]
     },
     "execution_count": 10,
     "metadata": {},
     "output_type": "execute_result"
    },
    {
     "data": {
      "text/plain": [
       "<Figure size 576x360 with 0 Axes>"
      ]
     },
     "metadata": {},
     "output_type": "display_data"
    }
   ],
   "source": [
    "plt.figure(figsize = (8,5))\n",
    "crimes.groupby([crimes.index.year]).size().plot.bar()\n",
    "plt.title('Crime Over the Years')\n",
    "plt.xlabel('Year')\n",
    "plt.ylabel('Number of Crimes Acts')\n",
    "plt.show()\n",
    "plt.figure(figsize = (8,5))"
   ]
  },
  {
   "cell_type": "code",
   "execution_count": 11,
   "id": "09ef2ed4",
   "metadata": {},
   "outputs": [
    {
     "data": {
      "image/png": "[encoded data removed]",
      "text/plain": [
       "<Figure size 432x288 with 1 Axes>"
      ]
     },
     "metadata": {
      "needs_background": "light"
     },
     "output_type": "display_data"
    }
   ],
   "source": [
    "crimes.groupby([crimes.index.day]).size().plot.bar()\n",
    "plt.title('Crime Per Day Of Month')\n",
    "plt.xlabel('Day')\n",
    "plt.ylabel('Number of Crimes Acts')\n",
    "plt.show()"
   ]
  },
  {
   "cell_type": "code",
   "execution_count": 12,
   "id": "391f2df9",
   "metadata": {},
   "outputs": [
    {
     "data": {
      "image/png": "[encoded data removed]",
      "text/plain": [
       "<Figure size 432x288 with 1 Axes>"
      ]
     },
     "metadata": {
      "needs_background": "light"
     },
     "output_type": "display_data"
    }
   ],
   "source": [
    "crimes.groupby([crimes.index.hour]).size().plot.bar()\n",
    "plt.title('Crime Per Hour')\n",
    "plt.xlabel('Hour')\n",
    "plt.ylabel('Number of Crimes Acts')\n",
    "plt.show()"
   ]
  },
  {
   "cell_type": "code",
   "execution_count": 13,
   "id": "a9ac28b5",
   "metadata": {},
   "outputs": [
    {
     "data": {
      "image/png": "[encoded data removed]",
      "text/plain": [
       "<Figure size 432x288 with 1 Axes>"
      ]
     },
     "metadata": {
      "needs_background": "light"
     },
     "output_type": "display_data"
    }
   ],
   "source": [
    "crimes.groupby([crimes.index.month]).size().plot.bar()\n",
    "plt.title('Crime Per Month')\n",
    "plt.xlabel('Month')\n",
    "plt.ylabel('Number of Crimes Acts')\n",
    "plt.show()\n",
    "\n"
   ]
  },
  {
   "cell_type": "code",
   "execution_count": 14,
   "id": "2b063902",
   "metadata": {},
   "outputs": [
    {
     "name": "stdout",
     "output_type": "stream",
     "text": [
      "Number of Missing Values in the whole dataset :  676\n"
     ]
    }
   ],
   "source": [
    "print(\"Number of Missing Values in the whole dataset : \", crimes.isna().sum().sum())"
   ]
  },
  {
   "cell_type": "code",
   "execution_count": 15,
   "id": "0719f7ba",
   "metadata": {},
   "outputs": [
    {
     "name": "stdout",
     "output_type": "stream",
     "text": [
      "Missing Values per feature >>\n"
     ]
    },
    {
     "data": {
      "text/html": [
       "<div>\n",
       "<style scoped>\n",
       "    .dataframe tbody tr th:only-of-type {\n",
       "        vertical-align: middle;\n",
       "    }\n",
       "\n",
       "    .dataframe tbody tr th {\n",
       "        vertical-align: top;\n",
       "    }\n",
       "\n",
       "    .dataframe thead th {\n",
       "        text-align: right;\n",
       "    }\n",
       "</style>\n",
       "<table border=\"1\" class=\"dataframe\">\n",
       "  <thead>\n",
       "    <tr style=\"text-align: right;\">\n",
       "      <th></th>\n",
       "      <th>Others</th>\n",
       "      <th>AGE</th>\n",
       "      <th>SEX</th>\n",
       "      <th>RACE</th>\n",
       "    </tr>\n",
       "  </thead>\n",
       "  <tbody>\n",
       "    <tr>\n",
       "      <th>Missing Values</th>\n",
       "      <td>0</td>\n",
       "      <td>262</td>\n",
       "      <td>207</td>\n",
       "      <td>207</td>\n",
       "    </tr>\n",
       "  </tbody>\n",
       "</table>\n",
       "</div>"
      ],
      "text/plain": [
       "                Others  AGE  SEX  RACE\n",
       "Missing Values       0  262  207   207"
      ]
     },
     "execution_count": 15,
     "metadata": {},
     "output_type": "execute_result"
    }
   ],
   "source": [
    "# Let's count number of null entries per feature\n",
    "missing_values = list(crimes.isna().sum())\n",
    "# missing values is a list of the number of missing values in each column\n",
    "\n",
    "cols = list(crimes.columns)\n",
    "col_final = []\n",
    "for i in range(len(cols)):\n",
    "    if (missing_values[i] == 0):\n",
    "        cols[i]=\"Others\"\n",
    "d = dict(zip(cols, missing_values)) # making a dicionary for the missing values\n",
    "\n",
    "print(\"Missing Values per feature >>\")\n",
    "missing_vals = pd.DataFrame(d, index=[\"Missing Values\"]) # Making a custom dataframe from dict d\n",
    "missing_vals.head()"
   ]
  },
  {
   "cell_type": "code",
   "execution_count": 16,
   "id": "9afc5fad",
   "metadata": {},
   "outputs": [],
   "source": [
    "# Drop NAN rows\n",
    "crimes = crimes.dropna()"
   ]
  },
  {
   "cell_type": "code",
   "execution_count": 17,
   "id": "fffe45a3",
   "metadata": {
    "scrolled": false
   },
   "outputs": [
    {
     "data": {
      "image/png": "[encoded data removed]",
      "text/plain": [
       "<Figure size 720x360 with 1 Axes>"
      ]
     },
     "metadata": {
      "needs_background": "light"
     },
     "output_type": "display_data"
    }
   ],
   "source": [
    "# plot\n",
    "fig, ax = plt.subplots(figsize=(10, 5))\n",
    "sns.countplot(x='HOUR', data=crimes)\n",
    "\n",
    "plt.title(\"Unsafest Hours in City\", fontdict={'fontsize': 20})\n",
    "plt.xlabel(\"\\nHour in the Day\", fontdict={'fontsize': 15})\n",
    "plt.ylabel(\"Number of Crimes\\n\", fontdict={'fontsize': 15})\n",
    "plt.show()"
   ]
  },
  {
   "cell_type": "code",
   "execution_count": 18,
   "id": "73e38c68",
   "metadata": {},
   "outputs": [
    {
     "data": {
      "image/png": "[encoded data removed]",
      "text/plain": [
       "<Figure size 1080x2880 with 22 Axes>"
      ]
     },
     "metadata": {
      "needs_background": "light"
     },
     "output_type": "display_data"
    }
   ],
   "source": [
    "# Most Common Occurences per District\n",
    "%matplotlib inline\n",
    "ds = crimes.groupby(['DISTRICT', 'PRIMARY_TYPE']).size().reset_index(name='counts').groupby('DISTRICT').apply(lambda x: x.sort_values('counts',ascending=False).head(3))\n",
    "\n",
    "# factor plot to make multiple plots\n",
    "g =sns.catplot(\"PRIMARY_TYPE\", y='counts', col=\"DISTRICT\", col_wrap=3,\n",
    "                   data=ds, kind='bar')\n",
    "for ax in g.axes:\n",
    "    plt.setp(ax.get_xticklabels(), visible=True, rotation=45, ha='right')\n",
    "\n",
    "plt.subplots_adjust(hspace=0.4)"
   ]
  },
  {
   "cell_type": "code",
   "execution_count": 19,
   "id": "2f786d9a",
   "metadata": {},
   "outputs": [
    {
     "data": {
      "text/plain": [
       "11    3021\n",
       "7     1972\n",
       "10    1737\n",
       "6     1717\n",
       "15    1603\n",
       "Name: DISTRICT, dtype: int64"
      ]
     },
     "execution_count": 19,
     "metadata": {},
     "output_type": "execute_result"
    }
   ],
   "source": [
    "# Top 5 criminal districts\n",
    "top_5_District = crimes['DISTRICT'].value_counts().sort_values(ascending=False).head()\n",
    "top_5_District"
   ]
  },
  {
   "cell_type": "code",
   "execution_count": 20,
   "id": "3feacf81",
   "metadata": {},
   "outputs": [
    {
     "data": {
      "text/html": [
       "<div>\n",
       "<style scoped>\n",
       "    .dataframe tbody tr th:only-of-type {\n",
       "        vertical-align: middle;\n",
       "    }\n",
       "\n",
       "    .dataframe tbody tr th {\n",
       "        vertical-align: top;\n",
       "    }\n",
       "\n",
       "    .dataframe thead th {\n",
       "        text-align: right;\n",
       "    }\n",
       "</style>\n",
       "<table border=\"1\" class=\"dataframe\">\n",
       "  <thead>\n",
       "    <tr style=\"text-align: right;\">\n",
       "      <th></th>\n",
       "      <th>MONTH</th>\n",
       "      <th>DATE</th>\n",
       "      <th>Count</th>\n",
       "    </tr>\n",
       "  </thead>\n",
       "  <tbody>\n",
       "    <tr>\n",
       "      <th>0</th>\n",
       "      <td>7</td>\n",
       "      <td>2021</td>\n",
       "      <td>599</td>\n",
       "    </tr>\n",
       "    <tr>\n",
       "      <th>1</th>\n",
       "      <td>7</td>\n",
       "      <td>2020</td>\n",
       "      <td>579</td>\n",
       "    </tr>\n",
       "    <tr>\n",
       "      <th>2</th>\n",
       "      <td>6</td>\n",
       "      <td>2020</td>\n",
       "      <td>557</td>\n",
       "    </tr>\n",
       "    <tr>\n",
       "      <th>3</th>\n",
       "      <td>6</td>\n",
       "      <td>2021</td>\n",
       "      <td>504</td>\n",
       "    </tr>\n",
       "    <tr>\n",
       "      <th>4</th>\n",
       "      <td>8</td>\n",
       "      <td>2020</td>\n",
       "      <td>494</td>\n",
       "    </tr>\n",
       "  </tbody>\n",
       "</table>\n",
       "</div>"
      ],
      "text/plain": [
       "   MONTH  DATE  Count\n",
       "0      7  2021    599\n",
       "1      7  2020    579\n",
       "2      6  2020    557\n",
       "3      6  2021    504\n",
       "4      8  2020    494"
      ]
     },
     "execution_count": 20,
     "metadata": {},
     "output_type": "execute_result"
    }
   ],
   "source": [
    "# Crime Activity Per Month/Year\n",
    "crime_activity_plot = pd.DataFrame(crimes.groupby(['MONTH', crimes.index.year]).size().sort_values(ascending=False).rename('Count').reset_index())\n",
    "crime_activity_plot.head()"
   ]
  },
  {
   "cell_type": "code",
   "execution_count": 21,
   "id": "7c90a820",
   "metadata": {},
   "outputs": [
    {
     "data": {
      "text/plain": [
       "<AxesSubplot:xlabel='DATE', ylabel='MONTH'>"
      ]
     },
     "execution_count": 21,
     "metadata": {},
     "output_type": "execute_result"
    },
    {
     "data": {
      "image/png": "[encoded data removed]",
      "text/plain": [
       "<Figure size 432x288 with 2 Axes>"
      ]
     },
     "metadata": {
      "needs_background": "light"
     },
     "output_type": "display_data"
    }
   ],
   "source": [
    "crime_activity_pivot_table = crime_activity_plot.pivot_table(values='Count',index='MONTH',columns='DATE')\n",
    "sns.heatmap(crime_activity_pivot_table)"
   ]
  },
  {
   "cell_type": "markdown",
   "id": "afe809d9",
   "metadata": {},
   "source": [
    "- 2017 - 2019 had the highest crime activity in the five-year period\n",
    "- Throughout the 2016 - 2021 period, January & February had the highest crime activity and most recently November 2021"
   ]
  },
  {
   "cell_type": "code",
   "execution_count": 22,
   "id": "c11159c2",
   "metadata": {},
   "outputs": [
    {
     "data": {
      "text/html": [
       "<div>\n",
       "<style scoped>\n",
       "    .dataframe tbody tr th:only-of-type {\n",
       "        vertical-align: middle;\n",
       "    }\n",
       "\n",
       "    .dataframe tbody tr th {\n",
       "        vertical-align: top;\n",
       "    }\n",
       "\n",
       "    .dataframe thead th {\n",
       "        text-align: right;\n",
       "    }\n",
       "</style>\n",
       "<table border=\"1\" class=\"dataframe\">\n",
       "  <thead>\n",
       "    <tr style=\"text-align: right;\">\n",
       "      <th>DATE</th>\n",
       "      <th>2016</th>\n",
       "      <th>2017</th>\n",
       "      <th>2018</th>\n",
       "      <th>2019</th>\n",
       "      <th>2020</th>\n",
       "      <th>2021</th>\n",
       "    </tr>\n",
       "    <tr>\n",
       "      <th>MONTH</th>\n",
       "      <th></th>\n",
       "      <th></th>\n",
       "      <th></th>\n",
       "      <th></th>\n",
       "      <th></th>\n",
       "      <th></th>\n",
       "    </tr>\n",
       "  </thead>\n",
       "  <tbody>\n",
       "    <tr>\n",
       "      <th>1</th>\n",
       "      <td>303.0</td>\n",
       "      <td>290.0</td>\n",
       "      <td>204.0</td>\n",
       "      <td>125.0</td>\n",
       "      <td>171.0</td>\n",
       "      <td>245.000000</td>\n",
       "    </tr>\n",
       "    <tr>\n",
       "      <th>2</th>\n",
       "      <td>198.0</td>\n",
       "      <td>206.0</td>\n",
       "      <td>151.0</td>\n",
       "      <td>126.0</td>\n",
       "      <td>167.0</td>\n",
       "      <td>174.000000</td>\n",
       "    </tr>\n",
       "    <tr>\n",
       "      <th>3</th>\n",
       "      <td>321.0</td>\n",
       "      <td>208.0</td>\n",
       "      <td>162.0</td>\n",
       "      <td>171.0</td>\n",
       "      <td>181.0</td>\n",
       "      <td>295.000000</td>\n",
       "    </tr>\n",
       "    <tr>\n",
       "      <th>4</th>\n",
       "      <td>312.0</td>\n",
       "      <td>292.0</td>\n",
       "      <td>215.0</td>\n",
       "      <td>234.0</td>\n",
       "      <td>233.0</td>\n",
       "      <td>302.000000</td>\n",
       "    </tr>\n",
       "    <tr>\n",
       "      <th>5</th>\n",
       "      <td>400.0</td>\n",
       "      <td>303.0</td>\n",
       "      <td>308.0</td>\n",
       "      <td>251.0</td>\n",
       "      <td>406.0</td>\n",
       "      <td>395.000000</td>\n",
       "    </tr>\n",
       "    <tr>\n",
       "      <th>6</th>\n",
       "      <td>450.0</td>\n",
       "      <td>393.0</td>\n",
       "      <td>324.0</td>\n",
       "      <td>310.0</td>\n",
       "      <td>557.0</td>\n",
       "      <td>504.000000</td>\n",
       "    </tr>\n",
       "    <tr>\n",
       "      <th>7</th>\n",
       "      <td>441.0</td>\n",
       "      <td>417.0</td>\n",
       "      <td>335.0</td>\n",
       "      <td>319.0</td>\n",
       "      <td>579.0</td>\n",
       "      <td>599.000000</td>\n",
       "    </tr>\n",
       "    <tr>\n",
       "      <th>8</th>\n",
       "      <td>478.0</td>\n",
       "      <td>336.0</td>\n",
       "      <td>353.0</td>\n",
       "      <td>273.0</td>\n",
       "      <td>494.0</td>\n",
       "      <td>476.000000</td>\n",
       "    </tr>\n",
       "    <tr>\n",
       "      <th>9</th>\n",
       "      <td>361.0</td>\n",
       "      <td>329.0</td>\n",
       "      <td>268.0</td>\n",
       "      <td>259.0</td>\n",
       "      <td>399.0</td>\n",
       "      <td>488.000000</td>\n",
       "    </tr>\n",
       "    <tr>\n",
       "      <th>10</th>\n",
       "      <td>424.0</td>\n",
       "      <td>286.0</td>\n",
       "      <td>263.0</td>\n",
       "      <td>227.0</td>\n",
       "      <td>353.0</td>\n",
       "      <td>356.000000</td>\n",
       "    </tr>\n",
       "    <tr>\n",
       "      <th>11</th>\n",
       "      <td>391.0</td>\n",
       "      <td>192.0</td>\n",
       "      <td>173.0</td>\n",
       "      <td>186.0</td>\n",
       "      <td>345.0</td>\n",
       "      <td>87.000000</td>\n",
       "    </tr>\n",
       "    <tr>\n",
       "      <th>12</th>\n",
       "      <td>286.0</td>\n",
       "      <td>196.0</td>\n",
       "      <td>222.0</td>\n",
       "      <td>203.0</td>\n",
       "      <td>267.0</td>\n",
       "      <td>356.454545</td>\n",
       "    </tr>\n",
       "  </tbody>\n",
       "</table>\n",
       "</div>"
      ],
      "text/plain": [
       "DATE    2016   2017   2018   2019   2020        2021\n",
       "MONTH                                               \n",
       "1      303.0  290.0  204.0  125.0  171.0  245.000000\n",
       "2      198.0  206.0  151.0  126.0  167.0  174.000000\n",
       "3      321.0  208.0  162.0  171.0  181.0  295.000000\n",
       "4      312.0  292.0  215.0  234.0  233.0  302.000000\n",
       "5      400.0  303.0  308.0  251.0  406.0  395.000000\n",
       "6      450.0  393.0  324.0  310.0  557.0  504.000000\n",
       "7      441.0  417.0  335.0  319.0  579.0  599.000000\n",
       "8      478.0  336.0  353.0  273.0  494.0  476.000000\n",
       "9      361.0  329.0  268.0  259.0  399.0  488.000000\n",
       "10     424.0  286.0  263.0  227.0  353.0  356.000000\n",
       "11     391.0  192.0  173.0  186.0  345.0   87.000000\n",
       "12     286.0  196.0  222.0  203.0  267.0  356.454545"
      ]
     },
     "execution_count": 22,
     "metadata": {},
     "output_type": "execute_result"
    }
   ],
   "source": [
    "# Fill nan with mean of column \n",
    "crime_activity_pivot_table = crime_activity_pivot_table.fillna(crime_activity_pivot_table.mean())\n",
    "crime_activity_pivot_table"
   ]
  },
  {
   "cell_type": "markdown",
   "id": "c695eba1",
   "metadata": {},
   "source": [
    "- The months in 2020 with the highest crime activity are June & July.\n",
    "- Throughout the 5-year period, these months recorded the highest crime activity"
   ]
  },
  {
   "cell_type": "code",
   "execution_count": 23,
   "id": "be1b0b40",
   "metadata": {},
   "outputs": [
    {
     "data": {
      "image/png": "[encoded data removed]",
      "text/plain": [
       "<Figure size 432x288 with 1 Axes>"
      ]
     },
     "metadata": {
      "needs_background": "light"
     },
     "output_type": "display_data"
    }
   ],
   "source": [
    "# plot age distribution of violent crimes\n",
    "sns.countplot(x ='AGE', data = crimes)\n",
    "plt.show()"
   ]
  },
  {
   "cell_type": "markdown",
   "id": "228dd801",
   "metadata": {},
   "source": [
    "Violent offenders seem to be young adults within the age 20-29"
   ]
  },
  {
   "cell_type": "markdown",
   "id": "8d9dd6f7",
   "metadata": {},
   "source": [
    "### Modeling"
   ]
  },
  {
   "cell_type": "markdown",
   "id": "0d1e7d42",
   "metadata": {},
   "source": [
    "1. Proper splitting/partitioning of data to ensure results are robust.\n",
    "2. Fitting of several models and exploration of different hyper parameters.\n",
    "3. Discussion of machine learning models chosen for exploration. For those chosen, detail on why the final hyper parameters were chosen.\n",
    "4. Visualizations on model results and clear explanation on the final model."
   ]
  },
  {
   "cell_type": "code",
   "execution_count": 24,
   "id": "22b2922b",
   "metadata": {},
   "outputs": [],
   "source": [
    "# drop index column\n",
    "crimes = crimes.reset_index(drop=True)\n",
    "\n",
    "# select relevant columns - remove features that communicate the same information to make our model robust\n",
    "X = crimes[['BLOCK', 'PRIMARY_TYPE', 'WARD', 'COMMUNITY_AREA',\n",
    "                   'STREET OUTREACH ORGANIZATION', 'AREA', 'DISTRICT', \n",
    "            'BEAT','SEX', 'RACE', 'FBI_DESCR', 'IUCR_SECONDARY',\n",
    "           'MONTH', 'DAY_OF_WEEK', 'HOUR']]\n",
    "\n",
    "\n",
    "# fill nan values with 0\n",
    "X = X.fillna(0)\n",
    "y = crimes['AGE']"
   ]
  },
  {
   "cell_type": "code",
   "execution_count": 25,
   "id": "adf6eff8",
   "metadata": {},
   "outputs": [
    {
     "data": {
      "text/html": [
       "<div>\n",
       "<style scoped>\n",
       "    .dataframe tbody tr th:only-of-type {\n",
       "        vertical-align: middle;\n",
       "    }\n",
       "\n",
       "    .dataframe tbody tr th {\n",
       "        vertical-align: top;\n",
       "    }\n",
       "\n",
       "    .dataframe thead th {\n",
       "        text-align: right;\n",
       "    }\n",
       "</style>\n",
       "<table border=\"1\" class=\"dataframe\">\n",
       "  <thead>\n",
       "    <tr style=\"text-align: right;\">\n",
       "      <th></th>\n",
       "      <th>BLOCK</th>\n",
       "      <th>PRIMARY_TYPE</th>\n",
       "      <th>WARD</th>\n",
       "      <th>COMMUNITY_AREA</th>\n",
       "      <th>STREET OUTREACH ORGANIZATION</th>\n",
       "      <th>AREA</th>\n",
       "      <th>DISTRICT</th>\n",
       "      <th>BEAT</th>\n",
       "      <th>SEX</th>\n",
       "      <th>RACE</th>\n",
       "      <th>FBI_DESCR</th>\n",
       "      <th>IUCR_SECONDARY</th>\n",
       "      <th>MONTH</th>\n",
       "      <th>DAY_OF_WEEK</th>\n",
       "      <th>HOUR</th>\n",
       "    </tr>\n",
       "  </thead>\n",
       "  <tbody>\n",
       "    <tr>\n",
       "      <th>0</th>\n",
       "      <td>4861</td>\n",
       "      <td>0</td>\n",
       "      <td>0.061224</td>\n",
       "      <td>28</td>\n",
       "      <td>26</td>\n",
       "      <td>0.00</td>\n",
       "      <td>0.041667</td>\n",
       "      <td>0.045380</td>\n",
       "      <td>2</td>\n",
       "      <td>2</td>\n",
       "      <td>1</td>\n",
       "      <td>28</td>\n",
       "      <td>0.0</td>\n",
       "      <td>0.833333</td>\n",
       "      <td>0.086957</td>\n",
       "    </tr>\n",
       "    <tr>\n",
       "      <th>1</th>\n",
       "      <td>2096</td>\n",
       "      <td>0</td>\n",
       "      <td>0.306122</td>\n",
       "      <td>50</td>\n",
       "      <td>30</td>\n",
       "      <td>0.00</td>\n",
       "      <td>0.333333</td>\n",
       "      <td>0.338696</td>\n",
       "      <td>2</td>\n",
       "      <td>2</td>\n",
       "      <td>1</td>\n",
       "      <td>28</td>\n",
       "      <td>0.0</td>\n",
       "      <td>0.833333</td>\n",
       "      <td>0.260870</td>\n",
       "    </tr>\n",
       "    <tr>\n",
       "      <th>2</th>\n",
       "      <td>6220</td>\n",
       "      <td>0</td>\n",
       "      <td>0.306122</td>\n",
       "      <td>23</td>\n",
       "      <td>60</td>\n",
       "      <td>0.00</td>\n",
       "      <td>0.250000</td>\n",
       "      <td>0.247937</td>\n",
       "      <td>2</td>\n",
       "      <td>2</td>\n",
       "      <td>1</td>\n",
       "      <td>28</td>\n",
       "      <td>0.0</td>\n",
       "      <td>0.833333</td>\n",
       "      <td>0.956522</td>\n",
       "    </tr>\n",
       "    <tr>\n",
       "      <th>3</th>\n",
       "      <td>6369</td>\n",
       "      <td>0</td>\n",
       "      <td>0.387755</td>\n",
       "      <td>76</td>\n",
       "      <td>32</td>\n",
       "      <td>0.00</td>\n",
       "      <td>0.083333</td>\n",
       "      <td>0.083746</td>\n",
       "      <td>2</td>\n",
       "      <td>2</td>\n",
       "      <td>1</td>\n",
       "      <td>28</td>\n",
       "      <td>0.0</td>\n",
       "      <td>1.000000</td>\n",
       "      <td>0.695652</td>\n",
       "    </tr>\n",
       "    <tr>\n",
       "      <th>4</th>\n",
       "      <td>4263</td>\n",
       "      <td>0</td>\n",
       "      <td>0.734694</td>\n",
       "      <td>5</td>\n",
       "      <td>48</td>\n",
       "      <td>0.75</td>\n",
       "      <td>0.583333</td>\n",
       "      <td>0.582508</td>\n",
       "      <td>2</td>\n",
       "      <td>2</td>\n",
       "      <td>1</td>\n",
       "      <td>28</td>\n",
       "      <td>0.0</td>\n",
       "      <td>0.166667</td>\n",
       "      <td>0.347826</td>\n",
       "    </tr>\n",
       "  </tbody>\n",
       "</table>\n",
       "</div>"
      ],
      "text/plain": [
       "   BLOCK  PRIMARY_TYPE      WARD  COMMUNITY_AREA  \\\n",
       "0   4861             0  0.061224              28   \n",
       "1   2096             0  0.306122              50   \n",
       "2   6220             0  0.306122              23   \n",
       "3   6369             0  0.387755              76   \n",
       "4   4263             0  0.734694               5   \n",
       "\n",
       "   STREET OUTREACH ORGANIZATION  AREA  DISTRICT      BEAT  SEX  RACE  \\\n",
       "0                            26  0.00  0.041667  0.045380    2     2   \n",
       "1                            30  0.00  0.333333  0.338696    2     2   \n",
       "2                            60  0.00  0.250000  0.247937    2     2   \n",
       "3                            32  0.00  0.083333  0.083746    2     2   \n",
       "4                            48  0.75  0.583333  0.582508    2     2   \n",
       "\n",
       "   FBI_DESCR  IUCR_SECONDARY  MONTH  DAY_OF_WEEK      HOUR  \n",
       "0          1              28    0.0     0.833333  0.086957  \n",
       "1          1              28    0.0     0.833333  0.260870  \n",
       "2          1              28    0.0     0.833333  0.956522  \n",
       "3          1              28    0.0     1.000000  0.695652  \n",
       "4          1              28    0.0     0.166667  0.347826  "
      ]
     },
     "execution_count": 25,
     "metadata": {},
     "output_type": "execute_result"
    }
   ],
   "source": [
    "# Scale numerical features using MinMax Scaler\n",
    "num_cols = X.columns[X.dtypes.apply(lambda c: np.issubdtype(c, np.number))]\n",
    "scaler = MinMaxScaler()\n",
    "X[num_cols] = scaler.fit_transform(X[num_cols])\n",
    "\n",
    "\n",
    "# Select numeric columns\n",
    "X_numeric = X.select_dtypes(include=['float64'])\n",
    "\n",
    "\n",
    "# Select categorical columns\n",
    "X_cat = X.select_dtypes(include=['object'])\n",
    "categ = X_cat.columns\n",
    "\n",
    "\n",
    "# Encode Categorical Columns\n",
    "le = LabelEncoder()\n",
    "X[categ] = X[categ].apply(le.fit_transform)\n",
    "X.head()"
   ]
  },
  {
   "cell_type": "code",
   "execution_count": 26,
   "id": "1202c307",
   "metadata": {},
   "outputs": [
    {
     "data": {
      "text/plain": [
       "array([1, 2, 2, ..., 3, 0, 3])"
      ]
     },
     "execution_count": 26,
     "metadata": {},
     "output_type": "execute_result"
    }
   ],
   "source": [
    "# Encode target column\n",
    "te = LabelEncoder()\n",
    "Y = te.fit_transform(y)\n",
    "Y"
   ]
  },
  {
   "cell_type": "code",
   "execution_count": 27,
   "id": "b9a4b4f3",
   "metadata": {},
   "outputs": [
    {
     "data": {
      "image/png": "[encoded data removed]",
      "text/plain": [
       "<Figure size 432x288 with 2 Axes>"
      ]
     },
     "metadata": {
      "needs_background": "light"
     },
     "output_type": "display_data"
    }
   ],
   "source": [
    "# Correlation Matrix \n",
    "correlation_mat = X.corr()\n",
    "sns.heatmap(correlation_mat)\n",
    "plt.show()"
   ]
  },
  {
   "cell_type": "code",
   "execution_count": 28,
   "id": "e893ab09",
   "metadata": {},
   "outputs": [
    {
     "name": "stdout",
     "output_type": "stream",
     "text": [
      "Original dataset shape Counter({'20 - 29': 9611, '30 - 39': 4796, '0 - 19': 4314, '40 - 49': 1667, '50 - 59': 797, '60 - 69': 280, '70 - 79': 57, '80+': 26})\n",
      "Resample dataset shape Counter({1: 9611, 2: 9611, 0: 9611, 6: 9611, 3: 9611, 4: 9611, 5: 9611, 7: 9611})\n",
      "Train samples:  61510 61510\n",
      "Test samples:  15378 15378\n"
     ]
    }
   ],
   "source": [
    "# Split dataset in train & test\n",
    "# Synthetic Minority Oversampling Technique to deal with class imbalance\n",
    "smote = SMOTE()\n",
    "#source:https://www.analyticsvidhya.com/blog/2020/07/10-techniques-to-deal-with-class-imbalance-in-machine-learning/\n",
    "# fit predictor and target variable\n",
    "x_smote, y_smote = smote.fit_resample(X, Y)\n",
    "\n",
    "# Stratify target variable \n",
    "X_train, X_test, y_train, y_test = train_test_split(x_smote, y_smote, stratify=y_smote, \n",
    "                                                    test_size=0.2,\n",
    "                                                    random_state=42)\n",
    "\n",
    "print('Original dataset shape', Counter(y))\n",
    "print('Resample dataset shape', Counter(y_smote))\n",
    "\n",
    "# Print number of observations\n",
    "print('Train samples: ', len(X_train), len(y_train))\n",
    "print('Test samples: ', len(X_test), len(y_test))"
   ]
  },
  {
   "cell_type": "markdown",
   "id": "4ff0f1a0",
   "metadata": {},
   "source": [
    "#### RANDOM FOREST "
   ]
  },
  {
   "cell_type": "code",
   "execution_count": 29,
   "id": "60cb62fa",
   "metadata": {},
   "outputs": [
    {
     "data": {
      "text/plain": [
       "{'bootstrap': True,\n",
       " 'ccp_alpha': 0.0,\n",
       " 'class_weight': None,\n",
       " 'criterion': 'gini',\n",
       " 'max_depth': None,\n",
       " 'max_features': 'auto',\n",
       " 'max_leaf_nodes': None,\n",
       " 'max_samples': None,\n",
       " 'min_impurity_decrease': 0.0,\n",
       " 'min_impurity_split': None,\n",
       " 'min_samples_leaf': 1,\n",
       " 'min_samples_split': 2,\n",
       " 'min_weight_fraction_leaf': 0.0,\n",
       " 'n_estimators': 100,\n",
       " 'n_jobs': None,\n",
       " 'oob_score': False,\n",
       " 'random_state': None,\n",
       " 'verbose': 0,\n",
       " 'warm_start': False}"
      ]
     },
     "execution_count": 29,
     "metadata": {},
     "output_type": "execute_result"
    }
   ],
   "source": [
    "rf_model = RandomForestClassifier()\n",
    "rf_model.get_params()"
   ]
  },
  {
   "cell_type": "code",
   "execution_count": 30,
   "id": "9561d4dc",
   "metadata": {},
   "outputs": [
    {
     "name": "stdout",
     "output_type": "stream",
     "text": [
      "Training Data Score: 0.9869939847179321\n",
      "Testing Data Score: 0.7722070490310834\n",
      "\n",
      "              precision    recall  f1-score   support\n",
      "\n",
      "           0       0.61      0.57      0.59      1922\n",
      "           1       0.50      0.57      0.53      1922\n",
      "           2       0.57      0.48      0.52      1922\n",
      "           3       0.75      0.72      0.74      1923\n",
      "           4       0.83      0.87      0.85      1922\n",
      "           5       0.92      0.96      0.94      1922\n",
      "           6       0.99      1.00      0.99      1923\n",
      "           7       1.00      1.00      1.00      1922\n",
      "\n",
      "    accuracy                           0.77     15378\n",
      "   macro avg       0.77      0.77      0.77     15378\n",
      "weighted avg       0.77      0.77      0.77     15378\n",
      "\n",
      "\n",
      "RANDOM FOREST CONFUSION MATRIX\n"
     ]
    }
   ],
   "source": [
    "# Train Random Forest Model\n",
    "rf_model.fit(X_train, y_train)\n",
    "\n",
    "# Make predictions with model\n",
    "y_pred = rf_model.predict(X_test)\n",
    "\n",
    "\n",
    "print(f\"Training Data Score: {rf_model.score(X_train, y_train)}\")\n",
    "print(f\"Testing Data Score: {rf_model.score(X_test, y_test)}\")\n",
    "print()\n",
    "print(classification_report(y_test, y_pred))\n",
    "print()\n",
    "print('RANDOM FOREST CONFUSION MATRIX')\n",
    "cm = confusion_matrix(y_test, y_pred)"
   ]
  },
  {
   "cell_type": "code",
   "execution_count": 31,
   "id": "8bc4cfe3",
   "metadata": {},
   "outputs": [
    {
     "name": "stdout",
     "output_type": "stream",
     "text": [
      "Cross Validation Accuracy: 71.455% (4.021%)\n"
     ]
    }
   ],
   "source": [
    "rf_results = cross_val_score(rf_model, x_smote, y_smote, cv=3)\n",
    "print((\"Cross Validation Accuracy: %.3f%% (%.3f%%)\") % (rf_results.mean()*100.0, rf_results.std()*100.0))"
   ]
  },
  {
   "cell_type": "markdown",
   "id": "8e079dff",
   "metadata": {},
   "source": [
    "#### ADA BOOST"
   ]
  },
  {
   "cell_type": "code",
   "execution_count": 32,
   "id": "a00982fa",
   "metadata": {},
   "outputs": [
    {
     "data": {
      "text/plain": [
       "{'algorithm': 'SAMME.R',\n",
       " 'base_estimator': None,\n",
       " 'learning_rate': 1.0,\n",
       " 'n_estimators': 50,\n",
       " 'random_state': None}"
      ]
     },
     "execution_count": 32,
     "metadata": {},
     "output_type": "execute_result"
    }
   ],
   "source": [
    "ada_model = AdaBoostClassifier()\n",
    "ada_model.get_params()"
   ]
  },
  {
   "cell_type": "code",
   "execution_count": 33,
   "id": "d888b21e",
   "metadata": {},
   "outputs": [
    {
     "name": "stdout",
     "output_type": "stream",
     "text": [
      "Training Data Score: 0.32090716956592424\n",
      "Testing Data Score: 0.3198075172324099\n",
      "\n",
      "              precision    recall  f1-score   support\n",
      "\n",
      "           0       0.26      0.33      0.29      1922\n",
      "           1       0.37      0.26      0.31      1922\n",
      "           2       0.25      0.26      0.25      1922\n",
      "           3       0.25      0.15      0.19      1923\n",
      "           4       0.21      0.11      0.15      1922\n",
      "           5       0.29      0.32      0.31      1922\n",
      "           6       0.31      0.41      0.35      1923\n",
      "           7       0.50      0.71      0.59      1922\n",
      "\n",
      "    accuracy                           0.32     15378\n",
      "   macro avg       0.31      0.32      0.30     15378\n",
      "weighted avg       0.31      0.32      0.30     15378\n",
      "\n",
      "\n"
     ]
    }
   ],
   "source": [
    "# Train Ada Boost Model\n",
    "ada_model.fit(X_train, y_train)\n",
    "\n",
    "# Make predictions with model\n",
    "y_pred = ada_model.predict(X_test)\n",
    "\n",
    "\n",
    "print(f\"Training Data Score: {ada_model.score(X_train, y_train)}\")\n",
    "print(f\"Testing Data Score: {ada_model.score(X_test, y_test)}\")\n",
    "print()\n",
    "print(classification_report(y_test, y_pred))\n",
    "print()"
   ]
  },
  {
   "cell_type": "code",
   "execution_count": 34,
   "id": "8408af9e",
   "metadata": {},
   "outputs": [
    {
     "name": "stdout",
     "output_type": "stream",
     "text": [
      "Cross Validation Accuracy: 29.015% (0.912%)\n"
     ]
    }
   ],
   "source": [
    "ada_results = cross_val_score(ada_model, x_smote, y_smote, cv=3)\n",
    "print((\"Cross Validation Accuracy: %.3f%% (%.3f%%)\") % (ada_results.mean()*100.0, ada_results.std()*100.0))"
   ]
  },
  {
   "cell_type": "markdown",
   "id": "411c6292",
   "metadata": {},
   "source": [
    "#### Hyperparameter tuning the best model"
   ]
  },
  {
   "cell_type": "code",
   "execution_count": 35,
   "id": "125eba88",
   "metadata": {},
   "outputs": [
    {
     "name": "stdout",
     "output_type": "stream",
     "text": [
      "{'bootstrap': [True, False],\n",
      " 'max_depth': [10, 20, 30, 40, 50, 60, 70, 80, 90, 100, 110, None],\n",
      " 'max_features': ['auto', 'sqrt'],\n",
      " 'min_samples_leaf': [1, 2, 4],\n",
      " 'min_samples_split': [2, 5, 10],\n",
      " 'n_estimators': [200, 400, 600, 800, 1000, 1200, 1400, 1600, 1800, 2000]}\n"
     ]
    }
   ],
   "source": [
    "# Number of trees in random forest\n",
    "n_estimators = [int(x) for x in np.linspace(start = 200, stop = 2000, num = 10)]\n",
    "\n",
    "# Number of features to consider at every split\n",
    "max_features = ['auto', 'sqrt']\n",
    "\n",
    "# Maximum number of levels in tree\n",
    "max_depth = [int(x) for x in np.linspace(10, 110, num = 11)]\n",
    "max_depth.append(None)\n",
    "\n",
    "# Minimum number of samples required to split a node\n",
    "min_samples_split = [2, 5, 10]\n",
    "\n",
    "# Minimum number of samples required at each leaf node\n",
    "min_samples_leaf = [1, 2, 4]\n",
    "\n",
    "# Method of selecting samples for training each tree\n",
    "bootstrap = [True, False]\n",
    "\n",
    "# Create the random grid\n",
    "random_grid = {'n_estimators': n_estimators,\n",
    "               'max_features': max_features,\n",
    "               'max_depth': max_depth,\n",
    "               'min_samples_split': min_samples_split,\n",
    "               'min_samples_leaf': min_samples_leaf,\n",
    "               'bootstrap': bootstrap}\n",
    "pprint(random_grid)"
   ]
  },
  {
   "cell_type": "code",
   "execution_count": 36,
   "id": "b539a3ae",
   "metadata": {},
   "outputs": [
    {
     "name": "stdout",
     "output_type": "stream",
     "text": [
      "Fitting 3 folds for each of 20 candidates, totalling 60 fits\n",
      "Best Random Forest Parameters: \n",
      "{'n_estimators': 800, 'min_samples_split': 2, 'min_samples_leaf': 1, 'max_features': 'sqrt', 'max_depth': 20, 'bootstrap': False}\n"
     ]
    }
   ],
   "source": [
    "# Use the random grid to search for best hyperparameters\n",
    "# First create the base model to tune\n",
    "rf = RandomForestClassifier()\n",
    "# Random search of parameters, using 3 fold cross validation, \n",
    "# search across 100 different combinations, and use all available cores\n",
    "rf_random = RandomizedSearchCV(estimator = rf, param_distributions = random_grid, n_iter = 20, cv = 3, verbose=2, random_state=42, n_jobs = -1)\n",
    "# Fit the random search model\n",
    "rf_random.fit(X_train, y_train)\n",
    "print('Best Random Forest Parameters: ')\n",
    "print(rf_random.best_params_)"
   ]
  },
  {
   "cell_type": "code",
   "execution_count": 37,
   "id": "9b94d0df",
   "metadata": {},
   "outputs": [
    {
     "name": "stdout",
     "output_type": "stream",
     "text": [
      "{'bootstrap': [True],\n",
      " 'max_depth': [80, 90, 100, 110],\n",
      " 'max_features': [2, 3],\n",
      " 'min_samples_leaf': [3, 4, 5],\n",
      " 'min_samples_split': [8, 10, 12],\n",
      " 'n_estimators': [100, 200, 300, 1000]}\n"
     ]
    }
   ],
   "source": [
    "# Create the parameter grid based on the results of random search \n",
    "param_grid = {\n",
    "    'bootstrap': [True],\n",
    "    'max_depth': [80, 90, 100, 110],\n",
    "    'max_features': [2, 3],\n",
    "    'min_samples_leaf': [3, 4, 5],\n",
    "    'min_samples_split': [8, 10, 12],\n",
    "    'n_estimators': [100, 200, 300, 1000]\n",
    "}\n",
    "pprint(param_grid)"
   ]
  },
  {
   "cell_type": "markdown",
   "id": "1761ee12",
   "metadata": {},
   "source": [
    "#### Using k-means clustering algorithm to cluster data per crime type "
   ]
  },
  {
   "cell_type": "code",
   "execution_count": 41,
   "id": "9af3c4ba",
   "metadata": {},
   "outputs": [
    {
     "data": {
      "image/png": "[encoded data removed]",
      "text/plain": [
       "<Figure size 432x288 with 1 Axes>"
      ]
     },
     "metadata": {
      "needs_background": "light"
     },
     "output_type": "display_data"
    }
   ],
   "source": [
    "# Append target variable back into dataset\n",
    "X['AGE_RANGE'] = Y\n",
    "dataframe = X\n",
    "dataframe.head()\n",
    "\n",
    "# Find the optimal value of K for clustering\n",
    "Sum_of_squared_distances = []\n",
    "K = range(1,10)\n",
    "for num_clusters in K :\n",
    "    kmeans = KMeans(n_clusters=num_clusters)\n",
    "    kmeans.fit(dataframe)\n",
    "    Sum_of_squared_distances.append(kmeans.inertia_)\n",
    "    \n",
    "plt.plot(K, Sum_of_squared_distances,'bx-')\n",
    "plt.xlabel('Values of K') \n",
    "plt.ylabel('Sum of squared distances/Inertia') \n",
    "plt.title('Elbow Method For Optimal k')\n",
    "plt.show()"
   ]
  },
  {
   "cell_type": "markdown",
   "id": "a13efd26",
   "metadata": {},
   "source": [
    "Optimal number for K = 3"
   ]
  },
  {
   "cell_type": "code",
   "execution_count": 42,
   "id": "73d02e6b",
   "metadata": {},
   "outputs": [
    {
     "name": "stdout",
     "output_type": "stream",
     "text": [
      "The lowest SSE value: \n",
      "13708698382.151882\n",
      "\n",
      "Final locations of the centroid: \n",
      "[[1.37277601e+03 8.58741682e-01 4.25099078e-01 4.60184513e+01\n",
      "  3.54680883e+01 4.65403811e-01 4.04239766e-01 4.05341311e-01\n",
      "  1.86206897e+00 2.85964912e+00 3.02329099e-01 1.16778584e+01\n",
      "  5.24308420e-01 4.91076830e-01 5.53736290e-01 1.34407139e+00]\n",
      " [6.98330116e+03 8.45941686e-01 3.28361289e-01 3.61622012e+01\n",
      "  3.59234305e+01 2.31809824e-01 3.02967122e-01 3.04623572e-01\n",
      "  1.86656160e+00 2.40701340e+00 3.34646703e-01 1.19155503e+01\n",
      "  5.17909592e-01 4.94264951e-01 5.83650255e-01 1.40084056e+00]\n",
      " [4.21000669e+03 8.57279432e-01 4.49531465e-01 3.60538104e+01\n",
      "  3.37196121e+01 5.32538924e-01 4.17258490e-01 4.18593249e-01\n",
      "  1.87544387e+00 3.41382136e+00 3.22589456e-01 1.16003824e+01\n",
      "  5.16128231e-01 4.96244196e-01 5.60158189e-01 1.33337886e+00]]\n",
      "\n",
      "The number of iterations required to converge: \n",
      "6\n"
     ]
    }
   ],
   "source": [
    "kmeans = KMeans(\n",
    "    init=\"random\",\n",
    "    n_clusters=3,\n",
    "    n_init=10,\n",
    "    max_iter=300,\n",
    "    random_state=42)\n",
    "\n",
    "kmeans.fit(dataframe)\n",
    "\n",
    "# The lowest SSE value\n",
    "print('The lowest SSE value: ')\n",
    "print(kmeans.inertia_)\n",
    "print()\n",
    "# Final locations of the centroid\n",
    "print('Final locations of the centroid: ')\n",
    "print(kmeans.cluster_centers_)\n",
    "print()\n",
    "# The number of iterations required to converge\n",
    "print('The number of iterations required to converge: ')\n",
    "print(kmeans.n_iter_)"
   ]
  }
 ],
 "metadata": {
  "kernelspec": {
   "display_name": "Python 3",
   "language": "python",
   "name": "python3"
  },
  "language_info": {
   "codemirror_mode": {
    "name": "ipython",
    "version": 3
   },
   "file_extension": ".py",
   "mimetype": "text/x-python",
   "name": "python",
   "nbconvert_exporter": "python",
   "pygments_lexer": "ipython3",
   "version": "3.8.8"
  }
 },
 "nbformat": 4,
 "nbformat_minor": 5
}
